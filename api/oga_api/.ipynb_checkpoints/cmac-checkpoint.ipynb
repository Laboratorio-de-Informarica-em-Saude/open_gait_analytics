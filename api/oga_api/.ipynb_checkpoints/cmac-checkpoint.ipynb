{
 "cells": [
  {
   "cell_type": "code",
   "execution_count": 4,
   "metadata": {
    "collapsed": false
   },
   "outputs": [
    {
     "name": "stdout",
     "output_type": "stream",
     "text": [
      "['', '/home/roberto/anaconda2/lib/python27.zip', '/home/roberto/anaconda2/lib/python2.7', '/home/roberto/anaconda2/lib/python2.7/plat-linux2', '/home/roberto/anaconda2/lib/python2.7/lib-tk', '/home/roberto/anaconda2/lib/python2.7/lib-old', '/home/roberto/anaconda2/lib/python2.7/lib-dynload', '/home/roberto/anaconda2/lib/python2.7/site-packages/Sphinx-1.3.5-py2.7.egg', '/home/roberto/anaconda2/lib/python2.7/site-packages/setuptools-20.3-py2.7.egg', '/home/roberto/anaconda2/lib/python2.7/site-packages', '/home/roberto/anaconda2/lib/python2.7/site-packages/IPython/extensions', '/home/roberto/.ipython', '~/Documents/open_gait_analytics/api', '/users/roberto/Documents/open_gait_analytics/api']\n"
     ]
    }
   ],
   "source": [
    "import sys\n",
    "print sys.path\n",
    "\n",
    "sys.path.append('/home/roberto/Documents/open_gait_analytics/api')\n"
   ]
  },
  {
   "cell_type": "code",
   "execution_count": 5,
   "metadata": {
    "collapsed": false
   },
   "outputs": [],
   "source": [
    "import oga_api"
   ]
  },
  {
   "cell_type": "code",
   "execution_count": null,
   "metadata": {
    "collapsed": true
   },
   "outputs": [],
   "source": []
  }
 ],
 "metadata": {
  "kernelspec": {
   "display_name": "Python 2",
   "language": "python",
   "name": "python2"
  },
  "language_info": {
   "codemirror_mode": {
    "name": "ipython",
    "version": 2
   },
   "file_extension": ".py",
   "mimetype": "text/x-python",
   "name": "python",
   "nbconvert_exporter": "python",
   "pygments_lexer": "ipython2",
   "version": "2.7.12"
  }
 },
 "nbformat": 4,
 "nbformat_minor": 0
}
