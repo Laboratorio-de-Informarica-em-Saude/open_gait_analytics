{
 "cells": [
  {
   "cell_type": "code",
   "execution_count": 4,
   "metadata": {
    "collapsed": false
   },
   "outputs": [
    {
     "name": "stdout",
     "output_type": "stream",
     "text": [
      "['', '/home/roberto/anaconda2/lib/python27.zip', '/home/roberto/anaconda2/lib/python2.7', '/home/roberto/anaconda2/lib/python2.7/plat-linux2', '/home/roberto/anaconda2/lib/python2.7/lib-tk', '/home/roberto/anaconda2/lib/python2.7/lib-old', '/home/roberto/anaconda2/lib/python2.7/lib-dynload', '/home/roberto/anaconda2/lib/python2.7/site-packages/Sphinx-1.3.5-py2.7.egg', '/home/roberto/anaconda2/lib/python2.7/site-packages/setuptools-20.3-py2.7.egg', '/home/roberto/anaconda2/lib/python2.7/site-packages', '/home/roberto/anaconda2/lib/python2.7/site-packages/IPython/extensions', '/home/roberto/.ipython', '~/Documents/open_gait_analytics/api', '/users/roberto/Documents/open_gait_analytics/api']\n"
     ]
    }
   ],
   "source": [
    "import sys\n",
    "print sys.path\n",
    "\n",
    "sys.path.append('/home/roberto/Documents/open_gait_analytics/api')\n"
   ]
  },
  {
   "cell_type": "code",
   "execution_count": 7,
   "metadata": {
    "collapsed": false
   },
   "outputs": [],
   "source": [
    "import oga_api\n",
    "from oga_api import get_db_connection\n",
    "from oga_api.physics import cinematic\n",
    "from pymongo import MongoClient\n",
    "from bson import json_util, ObjectId\n",
    "from flask.ext.cors import cross_origin\n",
    "import numpy as np\n",
    "\n",
    "\"mongodb://localhost\""
   ]
  },
  {
   "cell_type": "code",
   "execution_count": 13,
   "metadata": {
    "collapsed": true
   },
   "outputs": [],
   "source": [
    "def get_db():\n",
    "    connection = MongoClient('mongodb://localhost')\n",
    "    db = connection['oga']\n",
    "    return db"
   ]
  },
  {
   "cell_type": "code",
   "execution_count": 15,
   "metadata": {
    "collapsed": false
   },
   "outputs": [],
   "source": [
    "\n",
    "db = get_db()\n"
   ]
  },
  {
   "cell_type": "code",
   "execution_count": 31,
   "metadata": {
    "collapsed": false
   },
   "outputs": [
    {
     "name": "stdout",
     "output_type": "stream",
     "text": [
      "<type 'dict'>\n"
     ]
    },
    {
     "ename": "TypeError",
     "evalue": "'builtin_function_or_method' object is not iterable",
     "output_type": "error",
     "traceback": [
      "\u001b[1;31m---------------------------------------------------------------------------\u001b[0m",
      "\u001b[1;31mTypeError\u001b[0m                                 Traceback (most recent call last)",
      "\u001b[1;32m<ipython-input-31-c8b88f01c431>\u001b[0m in \u001b[0;36m<module>\u001b[1;34m()\u001b[0m\n\u001b[0;32m      3\u001b[0m \u001b[0mcontent\u001b[0m \u001b[1;33m=\u001b[0m \u001b[0mqtm\u001b[0m\u001b[1;33m.\u001b[0m\u001b[0mreadQTMFile\u001b[0m\u001b[1;33m(\u001b[0m\u001b[1;34m'Walk1.mat'\u001b[0m\u001b[1;33m)\u001b[0m\u001b[1;33m\u001b[0m\u001b[0m\n\u001b[0;32m      4\u001b[0m \u001b[1;32mprint\u001b[0m \u001b[0mtype\u001b[0m\u001b[1;33m(\u001b[0m\u001b[0mcontent\u001b[0m\u001b[1;33m)\u001b[0m\u001b[1;33m\u001b[0m\u001b[0m\n\u001b[1;32m----> 5\u001b[1;33m \u001b[1;32mfor\u001b[0m \u001b[0mx\u001b[0m \u001b[1;32min\u001b[0m \u001b[0mcontent\u001b[0m\u001b[1;33m.\u001b[0m\u001b[0mkeys\u001b[0m\u001b[1;33m:\u001b[0m\u001b[1;33m\u001b[0m\u001b[0m\n\u001b[0m\u001b[0;32m      6\u001b[0m     \u001b[1;32mprint\u001b[0m \u001b[0mx\u001b[0m\u001b[1;33m\u001b[0m\u001b[0m\n\u001b[0;32m      7\u001b[0m \u001b[1;33m\u001b[0m\u001b[0m\n",
      "\u001b[1;31mTypeError\u001b[0m: 'builtin_function_or_method' object is not iterable"
     ]
    }
   ],
   "source": [
    "import oga_api.etl.qtm as qtm\n",
    "\n",
    "content = qtm.readQTMFile('Walk1.mat')\n",
    "print type(content)\n",
    "for x in content.keys:\n",
    "    print x\n",
    "\n",
    "\n",
    "\n"
   ]
  },
  {
   "cell_type": "code",
   "execution_count": null,
   "metadata": {
    "collapsed": true
   },
   "outputs": [],
   "source": [
    "def run_cmac_training():\n",
    "\n",
    "    db = get_db()\n",
    "    pos = db.positionals_data.find_one({'_id': ObjectId(cmacConfig['idGaitSample'])})\n",
    "    import oga_api.ml.basic_cmac as basic_cmac\n",
    "    #import pdb; pdb.set_trace()\n",
    "    b_cmac = basic_cmac.BasicCMAC(cut_trajectories(pos), pos['angles'], 1.0/float(pos['frames']), cmacConfig['markers'], cmacConfig['angles'], cmacConfig['activationsNumber'], cmacConfig['output'], cmacConfig['iterationsNumber'])\n",
    "    try:\n",
    "\t    b_cmac.train()\n",
    "    except basic_cmac.ParameterInvalid as invalid:\n",
    "        return jsonify({'error': invalid.description}), 500\n",
    "\n",
    "    result = b_cmac.fire_test()\n",
    "    #basic = bc.BasicCMAC(self._trajectories, self._pos_angles, 1.0/315.0, self._cmacConfig['markers'], self._cmacConfig['angles'], self._cmacConfig['activationsNumber'], self._cmacConfig['output'], self._cmacConfig['iterationsNumber']) \n",
    "    av_img = result \n",
    "    av_dom = 100 * np.arange(0, len(av_img))/np.float(len(av_img))\n",
    "    lr_i = 0\n",
    "    lr_f = av_dom.max() * 0.12 \n",
    "    mst_i = lr_f\n",
    "    mst_f = av_dom.max() * 0.31\n",
    "    tst_i = mst_f\n",
    "    tst_f = av_dom.max() * 0.50\n",
    "    psw_i = tst_f\n",
    "    psw_f = av_dom.max() * 0.62\n",
    "    isw_i = psw_f\n",
    "    isw_f = av_dom.max() * 0.75\n",
    "    msw_i = isw_f\n",
    "    msw_f = av_dom.max() * 0.87\n",
    "    tsw_i = msw_f\n",
    "    tsw_f = av_dom.max() * 1\n",
    "\n",
    "    import matplotlib.pyplot as plt\n",
    "    fig = plt.figure(1)\n",
    "    fig.set_size_inches(20, 6)\n",
    "\n",
    "    plt.subplot(1,2,1)\n",
    "    plt.title(\"Right Knee Angular Velocities\")\n",
    "    plt.ylabel (\"Degrees / Seconds\")\n",
    "    plt.xlabel (\"Percentual Gait Cycle\")\n",
    "    plt.axis([0, av_dom.max(), av_img.min(), av_img.max()])\n",
    "    plt.axvspan(xmin = lr_i, xmax=lr_f, ymin =0, ymax=1, alpha = 0.2, color='b')\n",
    "    plt.annotate('LR', xy=(lr_i + 5, av_img.max() * 0.90))  \n",
    "    plt.axvspan(xmin = mst_i, xmax=mst_f, ymin =0, ymax=1, alpha = 0.2, color='y')\n",
    "    plt.annotate('MSt', xy=(mst_i + 5, av_img.max() * 0.90))  \n",
    "    plt.axvspan(xmin = tst_i, xmax=tst_f, ymin =0, ymax=1, alpha = 0.4, color='y')\n",
    "    plt.annotate('TSt', xy=(tst_i + 5, av_img.max() * 0.90))  \n",
    "    plt.axvspan(xmin = psw_i, xmax=psw_f, ymin =0, ymax=1, alpha = 0.2, color='b')\n",
    "    plt.annotate('PSw', xy=(psw_i + 5, av_img.max() * 0.90))  \n",
    "    plt.axvspan(xmin = isw_i, xmax=isw_f, ymin =0, ymax=1, alpha = 0.2, color='y')\n",
    "    plt.annotate('ISw', xy=(isw_i + 5, av_img.max() * 0.90))  \n",
    "    plt.axvspan(xmin = msw_i, xmax=msw_f, ymin =0, ymax=1, alpha = 0.4, color='y')\n",
    "    plt.annotate('MSw', xy=(msw_i + 5, av_img.max() * 0.90))  \n",
    "    plt.axvspan(xmin = tsw_i, xmax=tsw_f, ymin =0, ymax=1, alpha = 0.6, color='y')\n",
    "    plt.annotate('TSw', xy=(tsw_i + 5, av_img.max() * 0.90))  \n",
    "    curve_aproximation, = plt.plot(av_dom, av_img, 'r')\n",
    "    curve_real, = plt.plot(av_dom, b_cmac.data_out_test, 'b')\n",
    "    plt.legend([curve_aproximation, curve_real], ['Aproximation', 'Real' ], loc='best')\n",
    "\n",
    "    plt.subplot(1, 2, 2)\n",
    "    plt.xlabel('Iterations', fontsize=15)\n",
    "    plt.ylabel('Mean Squared Error', fontsize=15)\n",
    "    plt.plot(b_cmac.t.E)\n",
    "\n",
    "\n",
    "    import cStringIO\n",
    "    format = \"png\"\n",
    "    sio = cStringIO.StringIO()\n",
    "    plt.savefig(sio, format=format)\n",
    "\n",
    "    html_str = \"\"\"<html><body>\n",
    "    <img src=\"data:image/png;base64,%s\"/>\n",
    "    </body></html>\"\"\" % sio.getvalue().encode(\"base64\").strip()\n",
    "\n",
    "    plt.close()\n",
    " "
   ]
  }
 ],
 "metadata": {
  "kernelspec": {
   "display_name": "Python 2",
   "language": "python",
   "name": "python2"
  },
  "language_info": {
   "codemirror_mode": {
    "name": "ipython",
    "version": 2
   },
   "file_extension": ".py",
   "mimetype": "text/x-python",
   "name": "python",
   "nbconvert_exporter": "python",
   "pygments_lexer": "ipython2",
   "version": "2.7.12"
  }
 },
 "nbformat": 4,
 "nbformat_minor": 0
}
